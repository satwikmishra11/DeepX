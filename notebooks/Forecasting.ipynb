# %% [markdown]
# # Demand Forecasting
# 
# **Models**: SARIMA + XGBoost Hybrid Approach

# %%
import pandas as pd
import numpy as np
from statsmodels.tsa.statespace.sarimax import SARIMAX
from sklearn.model_selection import TimeSeriesSplit
from sklearn.metrics import mean_absolute_error
import xgboost as xgb
import matplotlib.pyplot as plt
import shap

# %%
# Load and prepare data
train = pd.read_csv('../data/kiranaRO_train.csv', parse_dates=['InvoiceDate'])
holidays = pd.read_csv('../data/holiday_calendar.csv', parse_dates=['Date'])
promotions = pd.read_csv('../data/promotions.csv', parse_dates=['StartDate', 'EndDate'])

# %%
# Feature engineering
def create_features(df):
    df = df.set_index('InvoiceDate').asfreq('D')
    df['day_of_week'] = df.index.dayofweek
    df['month'] = df.index.month
    df['year'] = df.index.year
    df['lag_7'] = df['Quantity'].shift(7)
    df['rolling_7'] = df['Quantity'].rolling(7).mean()
    return df

# %%
# Merge external data
daily_sales = train.groupby(pd.Grouper(key='InvoiceDate', freq='D'))['Quantity'].sum().reset_index()
full_data = pd.merge(daily_sales, holidays, left_on='InvoiceDate', right_on='Date', how='left')
full_data['IsHoliday'] = full_data['IsPublicHoliday'].fillna(0)

# %%
# Train-test split
train_data = full_data[full_data['InvoiceDate'] < '2011-11-01']
test_data = full_data[full_data['InvoiceDate'] >= '2011-11-01']

# %%
# SARIMA Model
sarima_model = SARIMAX(train_data['Quantity'],
                      order=(1,1,1),
                      seasonal_order=(1,1,1,7))
sarima_results = sarima_model.fit(disp=False)
sarima_pred = sarima_results.get_forecast(steps=len(test_data)).predicted_mean

# %%
# XGBoost Model
features = ['day_of_week', 'month', 'year', 'IsHoliday', 'lag_7', 'rolling_7']
X_train = train_data[features].fillna(0)
y_train = train_data['Quantity']
X_test = test_data[features].fillna(0)

model = xgb.XGBRegressor(n_estimators=200, learning_rate=0.05)
model.fit(X_train, y_train)
xgb_pred = model.predict(X_test)

# %%
# Ensemble predictions
final_pred = (sarima_pred.values * 0.4) + (xgb_pred * 0.6)

# %%
# Evaluation
print(f"SARIMA MAE: {mean_absolute_error(test_data['Quantity'], sarima_pred)}")
print(f"XGBoost MAE: {mean_absolute_error(test_data['Quantity'], xgb_pred)}")
print(f"Ensemble MAE: {mean_absolute_error(test_data['Quantity'], final_pred)}")

# %%
# SHAP explainability
explainer = shap.TreeExplainer(model)
shap_values = explainer.shap_values(X_train)
shap.summary_plot(shap_values, X_train)

# %%
# Forecast visualization
plt.figure(figsize=(14,7))
plt.plot(train_data['InvoiceDate'], train_data['Quantity'], label='Training Data')
plt.plot(test_data['InvoiceDate'], test_data['Quantity'], label='Actual')
plt.plot(test_data['InvoiceDate'], final_pred, label='Forecast', linestyle='--')
plt.title('Demand Forecasting Results')
plt.legend()
plt.show()
