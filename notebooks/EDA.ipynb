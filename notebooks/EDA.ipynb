# %% [markdown]
# # Exploratory Data Analysis (EDA)
# 
# **Objective**: Understand patterns, seasonality, and key drivers in sales data

# %%
import pandas as pd
import numpy as np
import matplotlib.pyplot as plt
import seaborn as sns
from statsmodels.tsa.seasonal import seasonal_decompose

# %%
# Load data
train = pd.read_csv('../data/kiranaRO_train.csv', parse_dates=['InvoiceDate'])
products = pd.read_csv('../data/product_catalog.csv')
holidays = pd.read_csv('../data/holiday_calendar.csv', parse_dates=['Date'])

# %%
# Basic stats
print("Time Range:", train['InvoiceDate'].min(), "to", train['InvoiceDate'].max())
print("Total Products:", train['StockCode'].nunique())
print("Total Customers:", train['CustomerID'].nunique())

# %%
# Time series decomposition
daily_sales = train.groupby(pd.Grouper(key='InvoiceDate', freq='D'))['Quantity'].sum()
decomposition = seasonal_decompose(daily_sales.fillna(0), period=7)
decomposition.plot()
plt.show()

# %%
# Top selling products
top_products = train.groupby('StockCode')['Quantity'].sum().sort_values(ascending=False).head(10)
plt.figure(figsize=(10,6))
sns.barplot(x=top_products.values, y=top_products.index)
plt.title('Top 10 Products by Sales Volume')
plt.show()

# %%
# Sales by weekday
train['Weekday'] = train['InvoiceDate'].dt.day_name()
weekday_sales = train.groupby('Weekday')['Quantity'].sum().reindex(
    ['Monday', 'Tuesday', 'Wednesday', 'Thursday', 'Friday', 'Saturday', 'Sunday'])
weekday_sales.plot(kind='bar')
plt.title('Sales by Day of Week')
plt.show()

# %%
# Price vs Quantity scatter
plt.figure(figsize=(10,6))
sns.scatterplot(x='UnitPrice', y='Quantity', data=train, alpha=0.3)
plt.xlim(0, 50)  # Remove outliers
plt.title('Price Sensitivity Analysis')
plt.show()

# %%
# Holiday impact
holiday_sales = pd.merge(daily_sales.reset_index(), holidays, 
                       left_on='InvoiceDate', right_on='Date', how='left')
holiday_sales['IsHoliday'] = holiday_sales['IsPublicHoliday'].fillna(0)

plt.figure(figsize=(10,6))
sns.boxplot(x='IsHoliday', y='Quantity', data=holiday_sales)
plt.title('Sales Distribution: Holidays vs Non-Holidays')
plt.show()
